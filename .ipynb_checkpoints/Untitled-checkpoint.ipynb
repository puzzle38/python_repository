{
 "cells": [
  {
   "cell_type": "code",
   "execution_count": 1,
   "id": "07755366",
   "metadata": {},
   "outputs": [],
   "source": [
    "import pandas as pd"
   ]
  },
  {
   "cell_type": "code",
   "execution_count": 2,
   "id": "2f4c7747",
   "metadata": {},
   "outputs": [],
   "source": [
    "df = pd.read_csv(r'C:\\Users\\puzzl\\Desktop\\공모전\\문화관광빅데이터분석대회\\data\\국민여행조사_변수추출.csv', encoding = 'cp949')"
   ]
  },
  {
   "cell_type": "code",
   "execution_count": 6,
   "id": "c68d7ae9",
   "metadata": {},
   "outputs": [],
   "source": [
    "df2 = df.drop_duplicates(subset = ['ID','시군구'])"
   ]
  },
  {
   "cell_type": "code",
   "execution_count": 5,
   "id": "55a05fc4",
   "metadata": {},
   "outputs": [
    {
     "data": {
      "text/plain": [
       "(29622, 5)"
      ]
     },
     "execution_count": 5,
     "metadata": {},
     "output_type": "execute_result"
    }
   ],
   "source": [
    "df2.groupby"
   ]
  },
  {
   "cell_type": "code",
   "execution_count": 9,
   "id": "628d9ca6",
   "metadata": {},
   "outputs": [],
   "source": [
    "df3 = df2.drop(columns='ID')"
   ]
  },
  {
   "cell_type": "code",
   "execution_count": 8,
   "id": "bae33b43",
   "metadata": {},
   "outputs": [
    {
     "name": "stderr",
     "output_type": "stream",
     "text": [
      "C:\\Users\\puzzl\\AppData\\Local\\Temp\\ipykernel_22524\\716786606.py:1: FutureWarning: The default value of numeric_only in DataFrameGroupBy.mean is deprecated. In a future version, numeric_only will default to False. Either specify numeric_only or select only columns which should be valid for the function.\n",
      "  df2.groupby('시군구').mean()\n"
     ]
    },
    {
     "data": {
      "text/html": [
       "<div>\n",
       "<style scoped>\n",
       "    .dataframe tbody tr th:only-of-type {\n",
       "        vertical-align: middle;\n",
       "    }\n",
       "\n",
       "    .dataframe tbody tr th {\n",
       "        vertical-align: top;\n",
       "    }\n",
       "\n",
       "    .dataframe thead th {\n",
       "        text-align: right;\n",
       "    }\n",
       "</style>\n",
       "<table border=\"1\" class=\"dataframe\">\n",
       "  <thead>\n",
       "    <tr style=\"text-align: right;\">\n",
       "      <th></th>\n",
       "      <th>A10</th>\n",
       "      <th>A11</th>\n",
       "      <th>A12</th>\n",
       "    </tr>\n",
       "    <tr>\n",
       "      <th>시군구</th>\n",
       "      <th></th>\n",
       "      <th></th>\n",
       "      <th></th>\n",
       "    </tr>\n",
       "  </thead>\n",
       "  <tbody>\n",
       "    <tr>\n",
       "      <th>11010</th>\n",
       "      <td>4.195652</td>\n",
       "      <td>3.949275</td>\n",
       "      <td>3.992754</td>\n",
       "    </tr>\n",
       "    <tr>\n",
       "      <th>11020</th>\n",
       "      <td>4.142857</td>\n",
       "      <td>4.125000</td>\n",
       "      <td>3.982143</td>\n",
       "    </tr>\n",
       "    <tr>\n",
       "      <th>11030</th>\n",
       "      <td>4.038462</td>\n",
       "      <td>3.923077</td>\n",
       "      <td>3.961538</td>\n",
       "    </tr>\n",
       "    <tr>\n",
       "      <th>11040</th>\n",
       "      <td>4.187500</td>\n",
       "      <td>4.125000</td>\n",
       "      <td>3.750000</td>\n",
       "    </tr>\n",
       "    <tr>\n",
       "      <th>11050</th>\n",
       "      <td>4.111111</td>\n",
       "      <td>4.000000</td>\n",
       "      <td>3.888889</td>\n",
       "    </tr>\n",
       "    <tr>\n",
       "      <th>...</th>\n",
       "      <td>...</td>\n",
       "      <td>...</td>\n",
       "      <td>...</td>\n",
       "    </tr>\n",
       "    <tr>\n",
       "      <th>38380</th>\n",
       "      <td>4.230769</td>\n",
       "      <td>4.153846</td>\n",
       "      <td>4.076923</td>\n",
       "    </tr>\n",
       "    <tr>\n",
       "      <th>38390</th>\n",
       "      <td>4.186047</td>\n",
       "      <td>4.023256</td>\n",
       "      <td>3.976744</td>\n",
       "    </tr>\n",
       "    <tr>\n",
       "      <th>38400</th>\n",
       "      <td>4.220779</td>\n",
       "      <td>4.155844</td>\n",
       "      <td>3.974026</td>\n",
       "    </tr>\n",
       "    <tr>\n",
       "      <th>39010</th>\n",
       "      <td>4.363234</td>\n",
       "      <td>4.230343</td>\n",
       "      <td>4.114064</td>\n",
       "    </tr>\n",
       "    <tr>\n",
       "      <th>39020</th>\n",
       "      <td>4.368363</td>\n",
       "      <td>4.240044</td>\n",
       "      <td>4.131637</td>\n",
       "    </tr>\n",
       "  </tbody>\n",
       "</table>\n",
       "<p>227 rows × 3 columns</p>\n",
       "</div>"
      ],
      "text/plain": [
       "            A10       A11       A12\n",
       "시군구                                \n",
       "11010  4.195652  3.949275  3.992754\n",
       "11020  4.142857  4.125000  3.982143\n",
       "11030  4.038462  3.923077  3.961538\n",
       "11040  4.187500  4.125000  3.750000\n",
       "11050  4.111111  4.000000  3.888889\n",
       "...         ...       ...       ...\n",
       "38380  4.230769  4.153846  4.076923\n",
       "38390  4.186047  4.023256  3.976744\n",
       "38400  4.220779  4.155844  3.974026\n",
       "39010  4.363234  4.230343  4.114064\n",
       "39020  4.368363  4.240044  4.131637\n",
       "\n",
       "[227 rows x 3 columns]"
      ]
     },
     "execution_count": 8,
     "metadata": {},
     "output_type": "execute_result"
    }
   ],
   "source": [
    "df2.groupby('시군구').mean()"
   ]
  },
  {
   "cell_type": "code",
   "execution_count": null,
   "id": "7f3dd166",
   "metadata": {},
   "outputs": [],
   "source": []
  }
 ],
 "metadata": {
  "kernelspec": {
   "display_name": "Python 3 (ipykernel)",
   "language": "python",
   "name": "python3"
  },
  "language_info": {
   "codemirror_mode": {
    "name": "ipython",
    "version": 3
   },
   "file_extension": ".py",
   "mimetype": "text/x-python",
   "name": "python",
   "nbconvert_exporter": "python",
   "pygments_lexer": "ipython3",
   "version": "3.10.9"
  }
 },
 "nbformat": 4,
 "nbformat_minor": 5
}
