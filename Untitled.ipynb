{
 "cells": [
  {
   "cell_type": "code",
   "execution_count": 1,
   "id": "be5d387e",
   "metadata": {},
   "outputs": [],
   "source": [
    "import pandas as pd"
   ]
  },
  {
   "cell_type": "code",
   "execution_count": 2,
   "id": "bf5d776d",
   "metadata": {},
   "outputs": [],
   "source": [
    "df = pd.read_csv(r'C:\\Users\\puzzl\\Desktop\\공모전\\문화관광빅데이터분석대회\\data\\국민여행조사_변수추출.csv', encoding = 'cp949')"
   ]
  },
  {
   "cell_type": "code",
   "execution_count": 6,
   "id": "7f34021d",
   "metadata": {},
   "outputs": [],
   "source": [
    "df2 = df.drop_duplicates(subset = ['ID','시군구'])"
   ]
  },
  {
   "cell_type": "code",
   "execution_count": 5,
   "id": "8865ba0d",
   "metadata": {},
   "outputs": [
    {
     "data": {
      "text/plain": [
       "(29622, 5)"
      ]
     },
     "execution_count": 5,
     "metadata": {},
     "output_type": "execute_result"
    }
   ],
   "source": [
    "df2.groupby"
   ]
  },
  {
   "cell_type": "code",
   "execution_count": 9,
   "id": "b88b09e5",
   "metadata": {},
   "outputs": [],
   "source": [
    "df3 = df2.drop(columns='ID')"
   ]
  },
  {
   "cell_type": "code",
   "execution_count": 10,
   "id": "5a77ad8f",
   "metadata": {},
   "outputs": [
    {
     "data": {
      "text/html": [
       "<div>\n",
       "<style scoped>\n",
       "    .dataframe tbody tr th:only-of-type {\n",
       "        vertical-align: middle;\n",
       "    }\n",
       "\n",
       "    .dataframe tbody tr th {\n",
       "        vertical-align: top;\n",
       "    }\n",
       "\n",
       "    .dataframe thead th {\n",
       "        text-align: right;\n",
       "    }\n",
       "</style>\n",
       "<table border=\"1\" class=\"dataframe\">\n",
       "  <thead>\n",
       "    <tr style=\"text-align: right;\">\n",
       "      <th></th>\n",
       "      <th>시군구</th>\n",
       "      <th>A10</th>\n",
       "      <th>A11</th>\n",
       "      <th>A12</th>\n",
       "    </tr>\n",
       "  </thead>\n",
       "  <tbody>\n",
       "    <tr>\n",
       "      <th>0</th>\n",
       "      <td>32070</td>\n",
       "      <td>5.0</td>\n",
       "      <td>4.0</td>\n",
       "      <td>4.0</td>\n",
       "    </tr>\n",
       "    <tr>\n",
       "      <th>1</th>\n",
       "      <td>39020</td>\n",
       "      <td>5.0</td>\n",
       "      <td>5.0</td>\n",
       "      <td>5.0</td>\n",
       "    </tr>\n",
       "    <tr>\n",
       "      <th>2</th>\n",
       "      <td>32030</td>\n",
       "      <td>5.0</td>\n",
       "      <td>5.0</td>\n",
       "      <td>4.0</td>\n",
       "    </tr>\n",
       "    <tr>\n",
       "      <th>3</th>\n",
       "      <td>32030</td>\n",
       "      <td>5.0</td>\n",
       "      <td>5.0</td>\n",
       "      <td>4.0</td>\n",
       "    </tr>\n",
       "    <tr>\n",
       "      <th>4</th>\n",
       "      <td>32010</td>\n",
       "      <td>5.0</td>\n",
       "      <td>4.0</td>\n",
       "      <td>3.0</td>\n",
       "    </tr>\n",
       "    <tr>\n",
       "      <th>...</th>\n",
       "      <td>...</td>\n",
       "      <td>...</td>\n",
       "      <td>...</td>\n",
       "      <td>...</td>\n",
       "    </tr>\n",
       "    <tr>\n",
       "      <th>29540</th>\n",
       "      <td>39020</td>\n",
       "      <td>4.0</td>\n",
       "      <td>4.0</td>\n",
       "      <td>4.0</td>\n",
       "    </tr>\n",
       "    <tr>\n",
       "      <th>29542</th>\n",
       "      <td>39020</td>\n",
       "      <td>4.0</td>\n",
       "      <td>4.0</td>\n",
       "      <td>4.0</td>\n",
       "    </tr>\n",
       "    <tr>\n",
       "      <th>29550</th>\n",
       "      <td>39020</td>\n",
       "      <td>4.0</td>\n",
       "      <td>4.0</td>\n",
       "      <td>4.0</td>\n",
       "    </tr>\n",
       "    <tr>\n",
       "      <th>29584</th>\n",
       "      <td>39010</td>\n",
       "      <td>5.0</td>\n",
       "      <td>4.0</td>\n",
       "      <td>4.0</td>\n",
       "    </tr>\n",
       "    <tr>\n",
       "      <th>29612</th>\n",
       "      <td>39010</td>\n",
       "      <td>4.0</td>\n",
       "      <td>4.0</td>\n",
       "      <td>4.0</td>\n",
       "    </tr>\n",
       "  </tbody>\n",
       "</table>\n",
       "<p>19659 rows × 4 columns</p>\n",
       "</div>"
      ],
      "text/plain": [
       "         시군구  A10  A11  A12\n",
       "0      32070  5.0  4.0  4.0\n",
       "1      39020  5.0  5.0  5.0\n",
       "2      32030  5.0  5.0  4.0\n",
       "3      32030  5.0  5.0  4.0\n",
       "4      32010  5.0  4.0  3.0\n",
       "...      ...  ...  ...  ...\n",
       "29540  39020  4.0  4.0  4.0\n",
       "29542  39020  4.0  4.0  4.0\n",
       "29550  39020  4.0  4.0  4.0\n",
       "29584  39010  5.0  4.0  4.0\n",
       "29612  39010  4.0  4.0  4.0\n",
       "\n",
       "[19659 rows x 4 columns]"
      ]
     },
     "execution_count": 10,
     "metadata": {},
     "output_type": "execute_result"
    }
   ],
   "source": [
    "df3"
   ]
  },
  {
   "cell_type": "code",
   "execution_count": 12,
   "id": "afbad5ed",
   "metadata": {},
   "outputs": [],
   "source": [
    "df4 = pd.DataFrame(df3.groupby('시군구').mean())"
   ]
  },
  {
   "cell_type": "code",
   "execution_count": 13,
   "id": "2edf1ec5",
   "metadata": {},
   "outputs": [
    {
     "data": {
      "text/html": [
       "<div>\n",
       "<style scoped>\n",
       "    .dataframe tbody tr th:only-of-type {\n",
       "        vertical-align: middle;\n",
       "    }\n",
       "\n",
       "    .dataframe tbody tr th {\n",
       "        vertical-align: top;\n",
       "    }\n",
       "\n",
       "    .dataframe thead th {\n",
       "        text-align: right;\n",
       "    }\n",
       "</style>\n",
       "<table border=\"1\" class=\"dataframe\">\n",
       "  <thead>\n",
       "    <tr style=\"text-align: right;\">\n",
       "      <th></th>\n",
       "      <th>A10</th>\n",
       "      <th>A11</th>\n",
       "      <th>A12</th>\n",
       "    </tr>\n",
       "    <tr>\n",
       "      <th>시군구</th>\n",
       "      <th></th>\n",
       "      <th></th>\n",
       "      <th></th>\n",
       "    </tr>\n",
       "  </thead>\n",
       "  <tbody>\n",
       "    <tr>\n",
       "      <th>11010</th>\n",
       "      <td>4.195652</td>\n",
       "      <td>3.949275</td>\n",
       "      <td>3.992754</td>\n",
       "    </tr>\n",
       "    <tr>\n",
       "      <th>11020</th>\n",
       "      <td>4.142857</td>\n",
       "      <td>4.125000</td>\n",
       "      <td>3.982143</td>\n",
       "    </tr>\n",
       "    <tr>\n",
       "      <th>11030</th>\n",
       "      <td>4.038462</td>\n",
       "      <td>3.923077</td>\n",
       "      <td>3.961538</td>\n",
       "    </tr>\n",
       "    <tr>\n",
       "      <th>11040</th>\n",
       "      <td>4.187500</td>\n",
       "      <td>4.125000</td>\n",
       "      <td>3.750000</td>\n",
       "    </tr>\n",
       "    <tr>\n",
       "      <th>11050</th>\n",
       "      <td>4.111111</td>\n",
       "      <td>4.000000</td>\n",
       "      <td>3.888889</td>\n",
       "    </tr>\n",
       "    <tr>\n",
       "      <th>...</th>\n",
       "      <td>...</td>\n",
       "      <td>...</td>\n",
       "      <td>...</td>\n",
       "    </tr>\n",
       "    <tr>\n",
       "      <th>38380</th>\n",
       "      <td>4.230769</td>\n",
       "      <td>4.153846</td>\n",
       "      <td>4.076923</td>\n",
       "    </tr>\n",
       "    <tr>\n",
       "      <th>38390</th>\n",
       "      <td>4.186047</td>\n",
       "      <td>4.023256</td>\n",
       "      <td>3.976744</td>\n",
       "    </tr>\n",
       "    <tr>\n",
       "      <th>38400</th>\n",
       "      <td>4.220779</td>\n",
       "      <td>4.155844</td>\n",
       "      <td>3.974026</td>\n",
       "    </tr>\n",
       "    <tr>\n",
       "      <th>39010</th>\n",
       "      <td>4.363234</td>\n",
       "      <td>4.230343</td>\n",
       "      <td>4.114064</td>\n",
       "    </tr>\n",
       "    <tr>\n",
       "      <th>39020</th>\n",
       "      <td>4.368363</td>\n",
       "      <td>4.240044</td>\n",
       "      <td>4.131637</td>\n",
       "    </tr>\n",
       "  </tbody>\n",
       "</table>\n",
       "<p>227 rows × 3 columns</p>\n",
       "</div>"
      ],
      "text/plain": [
       "            A10       A11       A12\n",
       "시군구                                \n",
       "11010  4.195652  3.949275  3.992754\n",
       "11020  4.142857  4.125000  3.982143\n",
       "11030  4.038462  3.923077  3.961538\n",
       "11040  4.187500  4.125000  3.750000\n",
       "11050  4.111111  4.000000  3.888889\n",
       "...         ...       ...       ...\n",
       "38380  4.230769  4.153846  4.076923\n",
       "38390  4.186047  4.023256  3.976744\n",
       "38400  4.220779  4.155844  3.974026\n",
       "39010  4.363234  4.230343  4.114064\n",
       "39020  4.368363  4.240044  4.131637\n",
       "\n",
       "[227 rows x 3 columns]"
      ]
     },
     "execution_count": 13,
     "metadata": {},
     "output_type": "execute_result"
    }
   ],
   "source": [
    "df4"
   ]
  },
  {
   "cell_type": "code",
   "execution_count": 14,
   "id": "96176398",
   "metadata": {},
   "outputs": [],
   "source": [
    "df4.to_csv(r'C:\\Users\\puzzl\\Desktop\\공모전\\문화관광빅데이터분석대회\\data\\국민여행조사_전처리.csv', encoding = 'cp949')"
   ]
  },
  {
   "cell_type": "code",
   "execution_count": null,
   "id": "57c46369",
   "metadata": {},
   "outputs": [],
   "source": []
  }
 ],
 "metadata": {
  "kernelspec": {
   "display_name": "Python 3 (ipykernel)",
   "language": "python",
   "name": "python3"
  },
  "language_info": {
   "codemirror_mode": {
    "name": "ipython",
    "version": 3
   },
   "file_extension": ".py",
   "mimetype": "text/x-python",
   "name": "python",
   "nbconvert_exporter": "python",
   "pygments_lexer": "ipython3",
   "version": "3.10.9"
  }
 },
 "nbformat": 4,
 "nbformat_minor": 5
}
