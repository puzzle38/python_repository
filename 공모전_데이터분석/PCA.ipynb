{
 "cells": [
  {
   "cell_type": "code",
   "execution_count": 1,
   "id": "99ae9d37",
   "metadata": {},
   "outputs": [],
   "source": [
    "# 라이브러리 불러오기\n",
    "import pandas as pd\n",
    "import numpy as np\n",
    "import seaborn as sns\n",
    "import matplotlib.pyplot as plt\n",
    "\n",
    "# 주성분분석 라이브러리\n",
    "from sklearn.decomposition import PCA\n",
    "\n",
    "# 요인분석 라이브러리 불러오기\n",
    "from factor_analyzer import FactorAnalyzer\n",
    "from factor_analyzer.factor_analyzer import calculate_bartlett_sphericity, calculate_kmo\n",
    "\n",
    "# 그래프 한글 깨짐 방지\n",
    "import matplotlib\n",
    "matplotlib.rcParams['font.family'] ='Malgun Gothic'\n",
    "matplotlib.rcParams['axes.unicode_minus'] =False\n",
    "\n",
    "# 표준화 라이브러리\n",
    "from sklearn.preprocessing import StandardScaler"
   ]
  },
  {
   "cell_type": "code",
   "execution_count": 2,
   "id": "c077c6ab",
   "metadata": {},
   "outputs": [],
   "source": [
    "# 데이터 불러오기\n",
    "df = pd.read_csv('final_animal_visit_travel.csv', encoding = 'cp949')\n",
    "# 성북구 지역 제외\n",
    "df2 = df[df['시군구'] != '성북구']"
   ]
  },
  {
   "cell_type": "code",
   "execution_count": 3,
   "id": "552e14b5",
   "metadata": {},
   "outputs": [
    {
     "name": "stdout",
     "output_type": "stream",
     "text": [
      "Bartlett's Test: 0.0\n",
      "Kaiser-Meyer-Olkin Test: 0.7211440934492269\n"
     ]
    }
   ],
   "source": [
    "# 적합성 검정 실시\n",
    "# 시군구열 제외\n",
    "x = df2.drop('시군구', axis=1).values\n",
    "# 표준화 실시\n",
    "x = (x - np.mean(x, axis = 0))/np.std(x, axis = 0, ddof =True)\n",
    "# bartlett,kmo 검정 실시\n",
    "_, p_value = calculate_bartlett_sphericity(x)\n",
    "_, kmo_measure = calculate_kmo(x)\n",
    "# 결과 귀무가설 기각 -> 유의함\n",
    "# kmo 0.72114409 > 0.6이상이므로 유의함\n",
    "print(\"Bartlett's Test:\",p_value)\n",
    "print(\"Kaiser-Meyer-Olkin Test:\",kmo_measure)"
   ]
  },
  {
   "cell_type": "code",
   "execution_count": 4,
   "id": "86726c6c",
   "metadata": {},
   "outputs": [],
   "source": [
    "# 시군구 열 제외한 데이터프레임 선택\n",
    "df3 = df2.drop(columns = ['시군구'])"
   ]
  },
  {
   "cell_type": "code",
   "execution_count": 5,
   "id": "4de7930a",
   "metadata": {},
   "outputs": [],
   "source": [
    "# 표준화\n",
    "scaler = StandardScaler()\n",
    "df_scaled = pd.DataFrame(scaler.fit_transform(df3), columns = df3.columns, index = df3.index)"
   ]
  },
  {
   "cell_type": "code",
   "execution_count": 6,
   "id": "31e0a640",
   "metadata": {},
   "outputs": [],
   "source": [
    "# 주성분분석 실시\n",
    "pca = PCA(random_state = 42)\n",
    "x_p = pca.fit_transform(df_scaled)"
   ]
  },
  {
   "cell_type": "code",
   "execution_count": 7,
   "id": "bde68baa",
   "metadata": {},
   "outputs": [
    {
     "data": {
      "text/plain": [
       "0    0.416322\n",
       "1    0.690664\n",
       "2    0.839850\n",
       "3    0.888987\n",
       "4    0.929526\n",
       "5    0.961007\n",
       "6    0.979722\n",
       "7    0.991467\n",
       "8    1.000000\n",
       "dtype: float64"
      ]
     },
     "execution_count": 7,
     "metadata": {},
     "output_type": "execute_result"
    }
   ],
   "source": [
    "# 주성분이 고유값을 기준으로 설명할 수 있는 분산량\n",
    "# 3번째 주성분까지 약 83%를 설명함\n",
    "pd.Series(np.cumsum(pca.explained_variance_ratio_))"
   ]
  },
  {
   "cell_type": "code",
   "execution_count": 8,
   "id": "56dc001c",
   "metadata": {},
   "outputs": [
    {
     "data": {
      "image/png": "[encoded data removed]",
      "text/plain": [
       "<Figure size 432x288 with 1 Axes>"
      ]
     },
     "metadata": {
      "needs_background": "light"
     },
     "output_type": "display_data"
    }
   ],
   "source": [
    "percent_variance = np.round(pca.explained_variance_ratio_*100, decimals = 2)\n",
    "columns = []\n",
    "for i in range(len(percent_variance)):\n",
    "    columns.append(f'PC{i+1}')\n",
    "\n",
    "ax = plt.bar(x = range(len(percent_variance)), height=percent_variance, tick_label = columns)\n",
    "plt.ylabel('Percentate of Variance Explained')\n",
    "plt.xlabel('Principal Component')\n",
    "plt.title('PCA Scree Plot')\n",
    "plt.show()"
   ]
  },
  {
   "cell_type": "code",
   "execution_count": 9,
   "id": "bd0bcdef",
   "metadata": {},
   "outputs": [],
   "source": [
    "x_pp = pd.DataFrame(x_p[:, :3], columns = ['PC1', 'PC2', 'PC3'], index = df2.index)"
   ]
  },
  {
   "cell_type": "code",
   "execution_count": 10,
   "id": "9d21d8cb",
   "metadata": {},
   "outputs": [
    {
     "data": {
      "text/html": [
       "<div>\n",
       "<style scoped>\n",
       "    .dataframe tbody tr th:only-of-type {\n",
       "        vertical-align: middle;\n",
       "    }\n",
       "\n",
       "    .dataframe tbody tr th {\n",
       "        vertical-align: top;\n",
       "    }\n",
       "\n",
       "    .dataframe thead th {\n",
       "        text-align: right;\n",
       "    }\n",
       "</style>\n",
       "<table border=\"1\" class=\"dataframe\">\n",
       "  <thead>\n",
       "    <tr style=\"text-align: right;\">\n",
       "      <th></th>\n",
       "      <th>PC1</th>\n",
       "      <th>PC2</th>\n",
       "      <th>PC3</th>\n",
       "    </tr>\n",
       "  </thead>\n",
       "  <tbody>\n",
       "    <tr>\n",
       "      <th>0</th>\n",
       "      <td>5.203522</td>\n",
       "      <td>1.247310</td>\n",
       "      <td>4.103089</td>\n",
       "    </tr>\n",
       "    <tr>\n",
       "      <th>1</th>\n",
       "      <td>2.629212</td>\n",
       "      <td>0.494188</td>\n",
       "      <td>-3.494352</td>\n",
       "    </tr>\n",
       "    <tr>\n",
       "      <th>2</th>\n",
       "      <td>-0.639316</td>\n",
       "      <td>1.023092</td>\n",
       "      <td>-0.830447</td>\n",
       "    </tr>\n",
       "    <tr>\n",
       "      <th>3</th>\n",
       "      <td>3.251072</td>\n",
       "      <td>0.781702</td>\n",
       "      <td>0.697243</td>\n",
       "    </tr>\n",
       "    <tr>\n",
       "      <th>4</th>\n",
       "      <td>-0.308180</td>\n",
       "      <td>-0.459558</td>\n",
       "      <td>-0.506217</td>\n",
       "    </tr>\n",
       "    <tr>\n",
       "      <th>...</th>\n",
       "      <td>...</td>\n",
       "      <td>...</td>\n",
       "      <td>...</td>\n",
       "    </tr>\n",
       "    <tr>\n",
       "      <th>224</th>\n",
       "      <td>0.354346</td>\n",
       "      <td>-0.542771</td>\n",
       "      <td>1.361656</td>\n",
       "    </tr>\n",
       "    <tr>\n",
       "      <th>225</th>\n",
       "      <td>4.082868</td>\n",
       "      <td>0.865838</td>\n",
       "      <td>-1.100020</td>\n",
       "    </tr>\n",
       "    <tr>\n",
       "      <th>226</th>\n",
       "      <td>-0.785674</td>\n",
       "      <td>-0.864692</td>\n",
       "      <td>0.320154</td>\n",
       "    </tr>\n",
       "    <tr>\n",
       "      <th>227</th>\n",
       "      <td>-1.419593</td>\n",
       "      <td>-0.686497</td>\n",
       "      <td>0.536552</td>\n",
       "    </tr>\n",
       "    <tr>\n",
       "      <th>228</th>\n",
       "      <td>-1.053886</td>\n",
       "      <td>-0.794155</td>\n",
       "      <td>0.583124</td>\n",
       "    </tr>\n",
       "  </tbody>\n",
       "</table>\n",
       "<p>228 rows × 3 columns</p>\n",
       "</div>"
      ],
      "text/plain": [
       "          PC1       PC2       PC3\n",
       "0    5.203522  1.247310  4.103089\n",
       "1    2.629212  0.494188 -3.494352\n",
       "2   -0.639316  1.023092 -0.830447\n",
       "3    3.251072  0.781702  0.697243\n",
       "4   -0.308180 -0.459558 -0.506217\n",
       "..        ...       ...       ...\n",
       "224  0.354346 -0.542771  1.361656\n",
       "225  4.082868  0.865838 -1.100020\n",
       "226 -0.785674 -0.864692  0.320154\n",
       "227 -1.419593 -0.686497  0.536552\n",
       "228 -1.053886 -0.794155  0.583124\n",
       "\n",
       "[228 rows x 3 columns]"
      ]
     },
     "execution_count": 10,
     "metadata": {},
     "output_type": "execute_result"
    }
   ],
   "source": [
    "x_pp"
   ]
  },
  {
   "cell_type": "code",
   "execution_count": 11,
   "id": "fdb36e18",
   "metadata": {},
   "outputs": [],
   "source": [
    "class myPCA:\n",
    "    def __init__(self, explained_var_ratio_thres=0.7):\n",
    "        self.explained_var_ratio_thres = explained_var_ratio_thres\n",
    "        self.n_components = None ## 최종 선택된 주성분 개수\n",
    "        self.explained_var = None ## 주성분별 분산 설명 비율\n",
    "        self.components = None ## 성분(축)\n",
    "        self.principal_components = None ## 주성분\n",
    "        self.total_variance = None ## 총 데이터 분산\n",
    "        self.pc_variable_corr_mat = None ## 주성분과 변수간 상관 행렬\n",
    "        \n",
    "    def fit(self, X):\n",
    "        c = self.explained_var_ratio_thres\n",
    "        X = X - np.mean(X, axis=0)\n",
    "        n = X.shape[0]\n",
    "        variance_X = (1/(n-1))*X.T @ X\n",
    "        eigen_value, eigen_vector = np.linalg.eig(variance_X)\n",
    "        total_variance = np.sum(eigen_value)\n",
    " \n",
    "        eigen_value, eigen_vector = np.linalg.eig(variance_X)\n",
    "        total_variance = np.sum(eigen_value) ## 데이터 총 분산\n",
    "        explained_var = eigen_value/total_variance ## 주성분별 분산 설명 비율\n",
    "        \n",
    "        ## 누적 분산 설명 비율이 c를 넘는 최초 인덱스\n",
    "        last_idx = np.min(np.where(np.cumsum(explained_var) > c)[0]) \n",
    "        \n",
    "        self.n_components = last_idx+1\n",
    "        self.pc_var = eigen_value[:last_idx+1]\n",
    "        self.explained_var = self.pc_var/total_variance\n",
    "        self.components = eigen_vector[:, :last_idx+1]\n",
    "        self.principal_components = X@eigen_vector[:, :last_idx+1]\n",
    "        self.total_variance = total_variance\n",
    "        \n",
    "        pc_variable_corr_mat = np.zeros((last_idx+1, X.shape[1]))\n",
    "        for i in range(last_idx+1):\n",
    "            for j in range(X.shape[1]):\n",
    "                pc = self.principal_components[:, i]\n",
    "                variable = X[:, j]\n",
    "                pc_variable_corr_mat[i, j] = np.corrcoef(pc, variable)[0,1]\n",
    "        self.pc_variable_corr_mat = pc_variable_corr_mat\n",
    "        return self"
   ]
  },
  {
   "cell_type": "code",
   "execution_count": 12,
   "id": "c1f319c6",
   "metadata": {},
   "outputs": [],
   "source": [
    "pca = myPCA(0.8).fit(x)"
   ]
  },
  {
   "cell_type": "code",
   "execution_count": 13,
   "id": "be1b0c2a",
   "metadata": {},
   "outputs": [
    {
     "data": {
      "text/plain": [
       "3"
      ]
     },
     "execution_count": 13,
     "metadata": {},
     "output_type": "execute_result"
    }
   ],
   "source": [
    "pca.n_components"
   ]
  },
  {
   "cell_type": "code",
   "execution_count": 14,
   "id": "4717c854",
   "metadata": {},
   "outputs": [
    {
     "data": {
      "text/plain": [
       "array([0.41632214, 0.27434219, 0.14918517])"
      ]
     },
     "execution_count": 14,
     "metadata": {},
     "output_type": "execute_result"
    }
   ],
   "source": [
    "pca.explained_var"
   ]
  },
  {
   "cell_type": "code",
   "execution_count": 15,
   "id": "801f6e5f",
   "metadata": {},
   "outputs": [
    {
     "data": {
      "text/plain": [
       "array([[ 0.36074325,  0.07875885,  0.49388124],\n",
       "       [ 0.37782563,  0.08134427, -0.47815037],\n",
       "       [ 0.44524376,  0.09545462,  0.00482502],\n",
       "       [ 0.3030925 ,  0.05542868, -0.60311695],\n",
       "       [ 0.45183759,  0.1219658 ,  0.04142353],\n",
       "       [ 0.4267933 ,  0.10674354,  0.37775834],\n",
       "       [ 0.11752403, -0.52257167, -0.1085593 ],\n",
       "       [ 0.13036758, -0.58484217,  0.07395001],\n",
       "       [ 0.14102372, -0.57758539,  0.04482414]])"
      ]
     },
     "execution_count": 15,
     "metadata": {},
     "output_type": "execute_result"
    }
   ],
   "source": [
    "pca.components"
   ]
  },
  {
   "cell_type": "code",
   "execution_count": 16,
   "id": "b69afcdf",
   "metadata": {},
   "outputs": [
    {
     "data": {
      "text/plain": [
       "array([[ 0.69828743,  0.73135364,  0.8618543 ,  0.5866934 ,  0.87461792,\n",
       "         0.82613992,  0.22749019,  0.25235134,  0.27297833],\n",
       "       [ 0.12375619,  0.12781874,  0.14999076,  0.08709678,  0.19164859,\n",
       "         0.16772939, -0.82113284, -0.91898037, -0.90757758],\n",
       "       [ 0.57227743, -0.55404952,  0.00559092, -0.69885266,  0.04799889,\n",
       "         0.43772177, -0.12579145,  0.08568845,  0.0519393 ]])"
      ]
     },
     "execution_count": 16,
     "metadata": {},
     "output_type": "execute_result"
    }
   ],
   "source": [
    "pca.pc_variable_corr_mat"
   ]
  },
  {
   "cell_type": "code",
   "execution_count": 17,
   "id": "1290acf4",
   "metadata": {},
   "outputs": [
    {
     "data": {
      "text/plain": [
       "array([[ 0.36074325,  0.07875885,  0.49388124],\n",
       "       [ 0.37782563,  0.08134427, -0.47815037],\n",
       "       [ 0.44524376,  0.09545462,  0.00482502],\n",
       "       [ 0.3030925 ,  0.05542868, -0.60311695],\n",
       "       [ 0.45183759,  0.1219658 ,  0.04142353],\n",
       "       [ 0.4267933 ,  0.10674354,  0.37775834],\n",
       "       [ 0.11752403, -0.52257167, -0.1085593 ],\n",
       "       [ 0.13036758, -0.58484217,  0.07395001],\n",
       "       [ 0.14102372, -0.57758539,  0.04482414]])"
      ]
     },
     "execution_count": 17,
     "metadata": {},
     "output_type": "execute_result"
    }
   ],
   "source": [
    "pca.components"
   ]
  },
  {
   "cell_type": "code",
   "execution_count": 19,
   "id": "9743be6c",
   "metadata": {},
   "outputs": [],
   "source": [
    "x_pp['시군구'] = df2.시군구"
   ]
  },
  {
   "cell_type": "code",
   "execution_count": 21,
   "id": "d823c593",
   "metadata": {},
   "outputs": [],
   "source": [
    "x_pp[['시군구', 'PC1', 'PC2', 'PC3']].to_csv('pet_travel_pca.csv', encoding = 'cp949')"
   ]
  },
  {
   "cell_type": "code",
   "execution_count": null,
   "id": "725acd8d",
   "metadata": {},
   "outputs": [],
   "source": []
  }
 ],
 "metadata": {
  "kernelspec": {
   "display_name": "Python 3 (ipykernel)",
   "language": "python",
   "name": "python3"
  },
  "language_info": {
   "codemirror_mode": {
    "name": "ipython",
    "version": 3
   },
   "file_extension": ".py",
   "mimetype": "text/x-python",
   "name": "python",
   "nbconvert_exporter": "python",
   "pygments_lexer": "ipython3",
   "version": "3.9.7"
  }
 },
 "nbformat": 4,
 "nbformat_minor": 5
}
