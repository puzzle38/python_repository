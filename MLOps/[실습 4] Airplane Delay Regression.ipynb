{
 "cells": [
  {
   "cell_type": "markdown",
   "id": "7ed55955",
   "metadata": {},
   "source": [
    "# 미국 항공기 비행 데이터\n",
    "- 출처 : https://github.com/tidyverse/nycflights13/tree/main/data\n",
    "- 데이터 요약 설명 : 미국 항공기가 운행되었던 과거 데이터 정보. 비행기의 출발/도착/지연시간/날씨/항공기 정보 등의 데이터가 포함되어있음\n",
    "- 데이터 수 : 303,748 (raw data에 추가 가공이 진행된 version)\n",
    "- 테이블(table)수 : 6 (raw data에 추가 가공이 진행된 version)"
   ]
  },
  {
   "cell_type": "markdown",
   "id": "babcd763",
   "metadata": {},
   "source": [
    "## 주요 목적\n",
    "\n",
    "- 항공기가 얼마나 지연되어 도착할 지를 예측한다.\n",
    "- 지연(연착)되는 이유를 파악하고 문제점을 해결하거나 대응하여 서비스 품질을 향상시키고자 한다."
   ]
  },
  {
   "cell_type": "code",
   "execution_count": 3,
   "id": "f4ab4428",
   "metadata": {},
   "outputs": [],
   "source": [
    "# library for feature engineering and EDA\n",
    "import pandas as pd\n",
    "import numpy as np\n",
    "import seaborn as sns\n",
    "import matplotlib.pyplot as plt\n",
    "from mpl_toolkits.mplot3d import Axes3D\n",
    "from mpl_toolkits.mplot3d import proj3d\n",
    "from IPython.display import Image\n",
    "\n",
    "# import pandas_profiling\n",
    "from datetime import datetime\n",
    "\n",
    "# library for statistic\n",
    "from scipy import stats\n",
    "from scipy.stats import kruskal\n",
    "from scipy.stats import f_oneway\n",
    "\n",
    "# library for sampling\n",
    "from imblearn.combine import SMOTEENN\n",
    "\n",
    "# library for macihne learning\n",
    "import sklearn\n",
    "from sklearn.preprocessing import LabelEncoder\n",
    "from sklearn.preprocessing import MinMaxScaler\n",
    "from sklearn.model_selection import train_test_split\n",
    "from sklearn.ensemble import RandomForestRegressor\n",
    "from sklearn.metrics import mean_squared_error\n",
    "from sklearn.model_selection import GridSearchCV\n",
    "\n",
    "from xgboost import XGBRegressor\n",
    "from xgboost import plot_importance\n",
    "\n",
    "# 시각화화면 안뜰때 쓰는 명령어(주피터 노트북에서)\n",
    "%matplotlib inline"
   ]
  },
  {
   "cell_type": "markdown",
   "id": "2a7af1a2",
   "metadata": {},
   "source": [
    "1. DataProcessing 1"
   ]
  },
  {
   "cell_type": "markdown",
   "id": "9bc0356f",
   "metadata": {},
   "source": [
    "1.1 Data Load"
   ]
  },
  {
   "cell_type": "code",
   "execution_count": 4,
   "id": "4cdc59bd",
   "metadata": {},
   "outputs": [],
   "source": [
    "path_lecture = \"C:/Users/puzzl/Desktop/성민/MLOps/part2/Chapter 1. 머신러닝 상품화 모델을 만들기 위한 실전 여정들/실습 자료/Ch02-21. Airplane Delay Regression/clip21_airplane_delay_regression\"\n",
    "\n",
    "random_state = 1234"
   ]
  },
  {
   "cell_type": "code",
   "execution_count": null,
   "id": "cfa90509",
   "metadata": {},
   "outputs": [],
   "source": [
    "df_airlines = pd.read_csv(path_lecture + \"/data/airlines.csv\")\n",
    "df_airlins = pd.read_csv(path_lecture + \"/data/\")\n",
    "df_airlins = pd.read_csv(path_lecture + \"/data/\")\n",
    "df_airlins = pd.read_csv(path_lecture + \"/data/\")\n",
    "df_airlins = pd.read_csv(path_lecture + \"/data/\")\n",
    "df_airlins = pd.read_csv(path_lecture + \"/data/\")"
   ]
  }
 ],
 "metadata": {
  "kernelspec": {
   "display_name": "Python 3 (ipykernel)",
   "language": "python",
   "name": "python3"
  },
  "language_info": {
   "codemirror_mode": {
    "name": "ipython",
    "version": 3
   },
   "file_extension": ".py",
   "mimetype": "text/x-python",
   "name": "python",
   "nbconvert_exporter": "python",
   "pygments_lexer": "ipython3",
   "version": "3.10.9"
  }
 },
 "nbformat": 4,
 "nbformat_minor": 5
}
