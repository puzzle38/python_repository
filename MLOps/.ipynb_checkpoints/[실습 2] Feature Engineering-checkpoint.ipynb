{
 "cells": [
  {
   "cell_type": "markdown",
   "id": "92219ee5",
   "metadata": {},
   "source": [
    "Feature Engineering 실습(germany credit)"
   ]
  },
  {
   "cell_type": "markdown",
   "id": "07c78fd0",
   "metadata": {},
   "source": [
    "Feature Engineering\n",
    "- 독일인 개인별 경제 Profile 데이터를 기반 실습 진행"
   ]
  },
  {
   "cell_type": "markdown",
   "id": "eb8f095d",
   "metadata": {},
   "source": [
    "실습\n",
    "- Data Load\n",
    "- Data Analysis\n",
    "- Feature Selection\n",
    "- Feature Sampling\n",
    "- Data Scaling & Encoding"
   ]
  },
  {
   "cell_type": "code",
   "execution_count": 8,
   "id": "d3d27942",
   "metadata": {},
   "outputs": [],
   "source": [
    "# library for feature engineering and EDA\n",
    "import pandas as pd\n",
    "import numpy as np\n",
    "import seaborn as sns\n",
    "import matplotlib.pyplot as plt\n",
    "from mpl_toolkits.mplot3d import Axes3D\n",
    "from mpl_toolkits.mplot3d import proj3d\n",
    "from IPython.display import Image\n",
    "from datetime import datetime\n",
    "\n",
    "# library for statistic\n",
    "from scipy import stats\n",
    "from scipy.stats import chi2_contingency\n",
    "from scipy.stats import kruskal\n",
    "from scipy.stats import skew\n",
    "from scipy.stats import kurtosis\n",
    "from scipy.stats import uniform as sp_randFloat\n",
    "from scipy.stats import randint as sp_randInt\n",
    "\n",
    "# library for sampling\n",
    "import sklearn\n",
    "from sklearn.preprocessing import LabelEncoder\n",
    "from sklearn.preprocessing import StandardScaler\n",
    "from sklearn.preprocessing import MinMaxScaler\n",
    "from sklearn.model_selection import train_test_split\n",
    "from sklearn.utils.class_weight import compute_sample_weight\n",
    "from sklearn.metrics import roc_auc_score\n",
    "from sklearn.metrics import precision_recall_fscore_support\n",
    "from sklearn.model_selection import GridSearchCV\n",
    "from sklearn.model_selection import RandomizedSearchCV\n",
    "from sklearn.ensemble import RandomForestClassifier\n",
    "\n",
    "%matplotlib inline"
   ]
  },
  {
   "cell_type": "markdown",
   "id": "e5261ccb",
   "metadata": {},
   "source": [
    "1. Data Processing 1"
   ]
  },
  {
   "cell_type": "markdown",
   "id": "d8f08ce9",
   "metadata": {},
   "source": [
    "1.1 Data Load"
   ]
  },
  {
   "cell_type": "code",
   "execution_count": 24,
   "id": "3531a327",
   "metadata": {},
   "outputs": [
    {
     "data": {
      "text/html": [
       "<div>\n",
       "<style scoped>\n",
       "    .dataframe tbody tr th:only-of-type {\n",
       "        vertical-align: middle;\n",
       "    }\n",
       "\n",
       "    .dataframe tbody tr th {\n",
       "        vertical-align: top;\n",
       "    }\n",
       "\n",
       "    .dataframe thead th {\n",
       "        text-align: right;\n",
       "    }\n",
       "</style>\n",
       "<table border=\"1\" class=\"dataframe\">\n",
       "  <thead>\n",
       "    <tr style=\"text-align: right;\">\n",
       "      <th></th>\n",
       "      <th>Creditability</th>\n",
       "      <th>Account_Balance</th>\n",
       "      <th>Duration_of_Credit_monthly</th>\n",
       "      <th>Payment_Status_of_Previous_Credit</th>\n",
       "      <th>Purpose</th>\n",
       "      <th>Credit_Amount</th>\n",
       "      <th>Value_Savings_Stocks</th>\n",
       "      <th>Length_of_current_employment</th>\n",
       "      <th>Instalment_per_cent</th>\n",
       "      <th>Sex_Marital_Status</th>\n",
       "      <th>...</th>\n",
       "      <th>Duration_in_Current_address</th>\n",
       "      <th>Most_valuable_available_asset</th>\n",
       "      <th>Age_years</th>\n",
       "      <th>Concurrent_Credits</th>\n",
       "      <th>Type_of_apartment</th>\n",
       "      <th>No_of_Credits_at_this_Bank</th>\n",
       "      <th>Occupation</th>\n",
       "      <th>No_of_dependents</th>\n",
       "      <th>Telephone</th>\n",
       "      <th>Foreign_Worker</th>\n",
       "    </tr>\n",
       "  </thead>\n",
       "  <tbody>\n",
       "    <tr>\n",
       "      <th>0</th>\n",
       "      <td>1</td>\n",
       "      <td>1</td>\n",
       "      <td>18</td>\n",
       "      <td>4</td>\n",
       "      <td>2</td>\n",
       "      <td>1049</td>\n",
       "      <td>1</td>\n",
       "      <td>2</td>\n",
       "      <td>4</td>\n",
       "      <td>2</td>\n",
       "      <td>...</td>\n",
       "      <td>4</td>\n",
       "      <td>2</td>\n",
       "      <td>21</td>\n",
       "      <td>3</td>\n",
       "      <td>1</td>\n",
       "      <td>1</td>\n",
       "      <td>3</td>\n",
       "      <td>1</td>\n",
       "      <td>1</td>\n",
       "      <td>1</td>\n",
       "    </tr>\n",
       "    <tr>\n",
       "      <th>1</th>\n",
       "      <td>1</td>\n",
       "      <td>1</td>\n",
       "      <td>9</td>\n",
       "      <td>4</td>\n",
       "      <td>0</td>\n",
       "      <td>2799</td>\n",
       "      <td>1</td>\n",
       "      <td>3</td>\n",
       "      <td>2</td>\n",
       "      <td>3</td>\n",
       "      <td>...</td>\n",
       "      <td>2</td>\n",
       "      <td>1</td>\n",
       "      <td>36</td>\n",
       "      <td>3</td>\n",
       "      <td>1</td>\n",
       "      <td>2</td>\n",
       "      <td>3</td>\n",
       "      <td>2</td>\n",
       "      <td>1</td>\n",
       "      <td>1</td>\n",
       "    </tr>\n",
       "    <tr>\n",
       "      <th>2</th>\n",
       "      <td>1</td>\n",
       "      <td>2</td>\n",
       "      <td>12</td>\n",
       "      <td>2</td>\n",
       "      <td>9</td>\n",
       "      <td>841</td>\n",
       "      <td>2</td>\n",
       "      <td>4</td>\n",
       "      <td>2</td>\n",
       "      <td>2</td>\n",
       "      <td>...</td>\n",
       "      <td>4</td>\n",
       "      <td>1</td>\n",
       "      <td>23</td>\n",
       "      <td>3</td>\n",
       "      <td>1</td>\n",
       "      <td>1</td>\n",
       "      <td>2</td>\n",
       "      <td>1</td>\n",
       "      <td>1</td>\n",
       "      <td>1</td>\n",
       "    </tr>\n",
       "    <tr>\n",
       "      <th>3</th>\n",
       "      <td>1</td>\n",
       "      <td>1</td>\n",
       "      <td>12</td>\n",
       "      <td>4</td>\n",
       "      <td>0</td>\n",
       "      <td>2122</td>\n",
       "      <td>1</td>\n",
       "      <td>3</td>\n",
       "      <td>3</td>\n",
       "      <td>3</td>\n",
       "      <td>...</td>\n",
       "      <td>2</td>\n",
       "      <td>1</td>\n",
       "      <td>39</td>\n",
       "      <td>3</td>\n",
       "      <td>1</td>\n",
       "      <td>2</td>\n",
       "      <td>2</td>\n",
       "      <td>2</td>\n",
       "      <td>1</td>\n",
       "      <td>2</td>\n",
       "    </tr>\n",
       "    <tr>\n",
       "      <th>4</th>\n",
       "      <td>1</td>\n",
       "      <td>1</td>\n",
       "      <td>12</td>\n",
       "      <td>4</td>\n",
       "      <td>0</td>\n",
       "      <td>2171</td>\n",
       "      <td>1</td>\n",
       "      <td>3</td>\n",
       "      <td>4</td>\n",
       "      <td>3</td>\n",
       "      <td>...</td>\n",
       "      <td>4</td>\n",
       "      <td>2</td>\n",
       "      <td>38</td>\n",
       "      <td>1</td>\n",
       "      <td>2</td>\n",
       "      <td>2</td>\n",
       "      <td>2</td>\n",
       "      <td>1</td>\n",
       "      <td>1</td>\n",
       "      <td>2</td>\n",
       "    </tr>\n",
       "  </tbody>\n",
       "</table>\n",
       "<p>5 rows × 21 columns</p>\n",
       "</div>"
      ],
      "text/plain": [
       "   Creditability  Account_Balance  Duration_of_Credit_monthly  \\\n",
       "0              1                1                          18   \n",
       "1              1                1                           9   \n",
       "2              1                2                          12   \n",
       "3              1                1                          12   \n",
       "4              1                1                          12   \n",
       "\n",
       "   Payment_Status_of_Previous_Credit  Purpose  Credit_Amount  \\\n",
       "0                                  4        2           1049   \n",
       "1                                  4        0           2799   \n",
       "2                                  2        9            841   \n",
       "3                                  4        0           2122   \n",
       "4                                  4        0           2171   \n",
       "\n",
       "   Value_Savings_Stocks  Length_of_current_employment  Instalment_per_cent  \\\n",
       "0                     1                             2                    4   \n",
       "1                     1                             3                    2   \n",
       "2                     2                             4                    2   \n",
       "3                     1                             3                    3   \n",
       "4                     1                             3                    4   \n",
       "\n",
       "   Sex_Marital_Status  ...  Duration_in_Current_address  \\\n",
       "0                   2  ...                            4   \n",
       "1                   3  ...                            2   \n",
       "2                   2  ...                            4   \n",
       "3                   3  ...                            2   \n",
       "4                   3  ...                            4   \n",
       "\n",
       "   Most_valuable_available_asset  Age_years  Concurrent_Credits  \\\n",
       "0                              2         21                   3   \n",
       "1                              1         36                   3   \n",
       "2                              1         23                   3   \n",
       "3                              1         39                   3   \n",
       "4                              2         38                   1   \n",
       "\n",
       "   Type_of_apartment  No_of_Credits_at_this_Bank  Occupation  \\\n",
       "0                  1                           1           3   \n",
       "1                  1                           2           3   \n",
       "2                  1                           1           2   \n",
       "3                  1                           2           2   \n",
       "4                  2                           2           2   \n",
       "\n",
       "   No_of_dependents  Telephone  Foreign_Worker  \n",
       "0                 1          1               1  \n",
       "1                 2          1               1  \n",
       "2                 1          1               1  \n",
       "3                 2          1               2  \n",
       "4                 1          1               2  \n",
       "\n",
       "[5 rows x 21 columns]"
      ]
     },
     "execution_count": 24,
     "metadata": {},
     "output_type": "execute_result"
    }
   ],
   "source": [
    "df = pd.read_csv('C:/Users/puzzl/Desktop/성민/MLOps/part2/Chapter 1. 머신러닝 상품화 모델을 만들기 위한 실전 여정들\\실습 자료/Ch02-14. Feature Engineering/clip14_Feature Engineering/data/german_credit_risk_data.csv', sep = ';')\n",
    "df.head()"
   ]
  },
  {
   "cell_type": "code",
   "execution_count": 14,
   "id": "c0800c01",
   "metadata": {},
   "outputs": [
    {
     "data": {
      "text/plain": [
       "Index(['Creditability', 'Account_Balance', 'Duration_of_Credit_monthly',\n",
       "       'Payment_Status_of_Previous_Credit', 'Purpose', 'Credit_Amount',\n",
       "       'Value_Savings_Stocks', 'Length_of_current_employment',\n",
       "       'Instalment_per_cent', 'Sex_Marital_Status', 'Guarantors',\n",
       "       'Duration_in_Current_address', 'Most_valuable_available_asset',\n",
       "       'Age_years', 'Concurrent_Credits', 'Type_of_apartment',\n",
       "       'No_of_Credits_at_this_Bank', 'Occupation', 'No_of_dependents',\n",
       "       'Telephone', 'Foreign_Worker'],\n",
       "      dtype='object')"
      ]
     },
     "execution_count": 14,
     "metadata": {},
     "output_type": "execute_result"
    }
   ],
   "source": [
    "df.columns"
   ]
  },
  {
   "cell_type": "markdown",
   "id": "1db93b3b",
   "metadata": {},
   "source": [
    "1.2 Duplicated Data 확인\n",
    "- 중복된 데이터를 확인해야 하는 이유 : 데이터에 문제가 있는지 확인해야 하고 중복된 데이터가 많으면 수집시스템에 문제가 있거나 데이터 필드 자체가 잘못되어 있을 수 있기 때문에 중복된 데이터를 확인하는건 매우 중요하다"
   ]
  },
  {
   "cell_type": "code",
   "execution_count": 16,
   "id": "ae9f1437",
   "metadata": {},
   "outputs": [
    {
     "name": "stdout",
     "output_type": "stream",
     "text": [
      "중복된 항목 수 :  0\n"
     ]
    }
   ],
   "source": [
    "# 중복된 데이터 확인\n",
    "print(\"중복된 항목 수 : \", len(df[df.duplicated()]))"
   ]
  },
  {
   "cell_type": "markdown",
   "id": "a636725e",
   "metadata": {},
   "source": [
    "2. Data EDA"
   ]
  },
  {
   "cell_type": "markdown",
   "id": "942596ca",
   "metadata": {},
   "source": [
    "2.1 Data Type and Summary"
   ]
  },
  {
   "cell_type": "code",
   "execution_count": 25,
   "id": "a0f8b922",
   "metadata": {},
   "outputs": [
    {
     "name": "stdout",
     "output_type": "stream",
     "text": [
      "<class 'pandas.core.frame.DataFrame'>\n",
      "RangeIndex: 1000 entries, 0 to 999\n",
      "Data columns (total 21 columns):\n",
      " #   Column                             Non-Null Count  Dtype\n",
      "---  ------                             --------------  -----\n",
      " 0   Creditability                      1000 non-null   int64\n",
      " 1   Account_Balance                    1000 non-null   int64\n",
      " 2   Duration_of_Credit_monthly         1000 non-null   int64\n",
      " 3   Payment_Status_of_Previous_Credit  1000 non-null   int64\n",
      " 4   Purpose                            1000 non-null   int64\n",
      " 5   Credit_Amount                      1000 non-null   int64\n",
      " 6   Value_Savings_Stocks               1000 non-null   int64\n",
      " 7   Length_of_current_employment       1000 non-null   int64\n",
      " 8   Instalment_per_cent                1000 non-null   int64\n",
      " 9   Sex_Marital_Status                 1000 non-null   int64\n",
      " 10  Guarantors                         1000 non-null   int64\n",
      " 11  Duration_in_Current_address        1000 non-null   int64\n",
      " 12  Most_valuable_available_asset      1000 non-null   int64\n",
      " 13  Age_years                          1000 non-null   int64\n",
      " 14  Concurrent_Credits                 1000 non-null   int64\n",
      " 15  Type_of_apartment                  1000 non-null   int64\n",
      " 16  No_of_Credits_at_this_Bank         1000 non-null   int64\n",
      " 17  Occupation                         1000 non-null   int64\n",
      " 18  No_of_dependents                   1000 non-null   int64\n",
      " 19  Telephone                          1000 non-null   int64\n",
      " 20  Foreign_Worker                     1000 non-null   int64\n",
      "dtypes: int64(21)\n",
      "memory usage: 164.2 KB\n"
     ]
    }
   ],
   "source": [
    "# dtype이 int64 여도 수치형이 아닐수도있다 (카테고리형일 수 있음)\n",
    "df.info()"
   ]
  },
  {
   "cell_type": "code",
   "execution_count": 18,
   "id": "ccf8cde3",
   "metadata": {},
   "outputs": [
    {
     "data": {
      "text/plain": [
       "Index(['Creditability', 'Account_Balance', 'Duration_of_Credit_monthly',\n",
       "       'Payment_Status_of_Previous_Credit', 'Purpose', 'Credit_Amount',\n",
       "       'Value_Savings_Stocks', 'Length_of_current_employment',\n",
       "       'Instalment_per_cent', 'Sex_Marital_Status', 'Guarantors',\n",
       "       'Duration_in_Current_address', 'Most_valuable_available_asset',\n",
       "       'Age_years', 'Concurrent_Credits', 'Type_of_apartment',\n",
       "       'No_of_Credits_at_this_Bank', 'Occupation', 'No_of_dependents',\n",
       "       'Telephone', 'Foreign_Worker'],\n",
       "      dtype='object')"
      ]
     },
     "execution_count": 18,
     "metadata": {},
     "output_type": "execute_result"
    }
   ],
   "source": [
    "df.columns"
   ]
  },
  {
   "cell_type": "code",
   "execution_count": 19,
   "id": "1f08e725",
   "metadata": {},
   "outputs": [
    {
     "name": "stdout",
     "output_type": "stream",
     "text": [
      "Creditability int64 [1 0]\n",
      "Account_Balance int64 [1 2 4 3]\n",
      "Duration_of_Credit_monthly int64 [18  9 12 10  8  6 24 11 30 48 36 15 42 21 27 33 28  4 47 14 39 60  5 22\n",
      " 54 13 16  7 20 26 45 72 40]\n",
      "Payment_Status_of_Previous_Credit int64 [4 2 3 0 1]\n",
      "Purpose int64 [ 2  0  9  3  1 10  5  4  6  8]\n",
      "Credit_Amount int64 [ 1049  2799   841  2122  2171  2241  3398  1361  1098  3758  3905  6187\n",
      "  1957  7582  1936  2647  3939  3213  2337  7228  3676  3124  2384  1424\n",
      "  4716  4771   652  1154  3556  4796  3017  3535  6614  1376  1721   860\n",
      "  1495  1934  3378  3868   996  1755  1028  2825  1239  1216  1258  1864\n",
      "  1474  1382   640  3919  1224  2331  6313   385  1655  1053  3160  3079\n",
      "  1163  2679  3578 10875  1344  1237  3077  2284  1567  2032  2745  1867\n",
      "  2299   929  3399  2030  3275  1940  1602  1979  2022  3342  5866  2360\n",
      "  1520  3651  2346  4454   666  1965  1995  2991  4221  1364  6361  4526\n",
      "  3573  4455  2136  5954  3777   806  4712  7432  1851  1393  1412  1473\n",
      "  1533  2012  3959   428  2366   763  3976  6260  1919  2603   936  3062\n",
      "  4795  5842  2063  1459  1213  5103   874  2978  1820  2872  1925  2515\n",
      "  2116  1453  1543  1318  2325   932  3148  3835  3832  5084  2406  2394\n",
      "  2476  2964  1262  1542  1743   409  8858  3512  1158  2684  1498  6416\n",
      "  3617  1291  1275  3972  3343   392  2134  5771  2788  5848  1228  1297\n",
      "  1552  1963  3235  4139  1804  1950 12749  1236  1055  8072  2831  1449\n",
      "  5742  2390  3430  2273  2923  1901  3711  8487  2255  7253  6761  1817\n",
      "  2141  3609  2333  7824  1445  7721  3763  4439  1107  1444 12169  2753\n",
      "  1494  2828  2483  1299  1549  3949  2901   709 10722  1287  3656  4679\n",
      "  8613  2659  1516  4380   802  1572  3566  1278   426  8588  3857   685\n",
      "  1603   601  2569  1316 10366  1568   629  1750  3488  1800  4151  2631\n",
      "  5248  2899  6204   804  3595  5711  2687  3643  2146  2315  3448  2708\n",
      "  1313  1493  2675  2118   909  1569  7678   660  2835  2670  3447  3568\n",
      "  3652  3660  1126   683  2251  4675  2353  3357   672   338  2697  2507\n",
      "  1478  3565  2221  1898   960  8133  2301   983  2320   339  5152  3749\n",
      "  3074   745  1469  1374   783  2606  9436   930  2751   250  1201   662\n",
      "  1300  1559  3016  1360  1204  1597  2073  2142  2132  1546  1418  1343\n",
      "  2662  6070  1927  2404  1554  1283   717  1747  1288  1038  2848  1413\n",
      "  3632  3229  3577   682  1924   727   781  2121   701  2069  1525  7629\n",
      "  3499  1346 10477  2924  1231  1961  5045  1255  1858  1221  1388  2279\n",
      "  2759  1410  1403  3021  6568  2578  7758   343  1591  3416  1108  5965\n",
      "  1514  6742  3650  3599 13756   276  4041   458   918  7393  1225  2812\n",
      "  3029  1480  1047  1471  5511  1206  6403   707  1503  6078  2528  1037\n",
      "  1352  3181  4594  5381  4657  1391  1913  7166  1409   976  2375   522\n",
      "  2743  5804  1169   776  1322  1175  2133  1829 11760  1501  1200  3195\n",
      "  4530  1555  2326  1887  1264   846  1532   935  2442  3590  2288  5117\n",
      " 14179  1386   618  1574   700   886  4686   790   766  2212  7308  5743\n",
      "  3973  7418  2629  1941  2445  6468  7374  3812  4006  7472  2028  5324\n",
      "  2323  1984   999  7409  2186  4473   937  3422  3105  2748  3872  5190\n",
      "  3001  3863  5801  1592  1185  3780  3612  1076  3527  2051  3331  3104\n",
      "  2611  1311  2108  4042   926  1680  1249  2463  1595  2058  7814  1740\n",
      "  1240  6842  5150  1203  2080  1538  3878  3186  2896  6967  1819  5943\n",
      "  7127  3349 10974   518  1860  9566  2930  1505  2238  2197  1881  1880\n",
      "  2389  1967  3380  1455   730  3244  1670  3979  1922  1295  1544   907\n",
      "  1715  1347  1007  1402  2002  2096  1101   894  1577  2764  8358  5433\n",
      "  3485  3850  7408  1377  4272  1553  9857   362  1935 10222  1330  9055\n",
      "  7966  3496  6948 12204  3446   684  4281  7174  2359  3621   741  7865\n",
      "  2910  5302  3620  3509  1657  1164  6229  1193  4583  5371   708   571\n",
      "  2522  5179  8229  1289  2712   975  1050   609  4788  3069   836  2577\n",
      "  1620  1845  6579  1893 10623  2249  3108   958  9277  6314  1526  6615\n",
      "  1872  2859  1582  1238  1433  7882  4169  3249  3149  2246  1797  2957\n",
      "  2348  6289  6419  6143 15857  2223  7238  2503  2622  4351   368   754\n",
      "  2424  6681  2427   753  2576   590  1414  1103   585  1068   713  1092\n",
      "  2329   882   866  2415  2101  1301  1113   760   625  1323  1138  1795\n",
      "  2728   484  1048  1155  7057  1537  2214  1585  1521  3990  3049  1282\n",
      " 10144  1168   454  3594  1768 15653  2247  4576  8335  5800  8471  3622\n",
      "  2181  7685  6110  3757  3394  6304  1244  3518  2613  7476  4591  5595\n",
      "  6224  1905  2993  8947  4020  2779  2782  1884 11054  9157  9283  6527\n",
      "  3368  2511  5493  1338  1082  1149  1308  6148  1736  3059  2996  7596\n",
      "  4811  1766  2760  5507  1199  2892  2862   654  1136  4113 14555   950\n",
      "  2150  2820  3060  2600  5003  6288  2538  4933  1530  1437  1823  1422\n",
      "  1217  9271  2145  1842  4297  3384  1245  4623  8386  1024 14318   433\n",
      "  2149  2397   931  1512  4241  4736  1778  2327  6872   795  1908  1953\n",
      "  2864  2319   915   947  1381  1285  1371  1042   900  1207  2278  6836\n",
      "  3345  1198 15672  7297  1943  3190  5129  1808   759  1980 10961  6887\n",
      "  1938  1835  1659  1209  3844  4843   639  5951  3804  4463  7980  4210\n",
      "  4611 11560  4165  4057  6458  1977  1928  1123 11328 11938  2520 14782\n",
      "  2671 12612  3031   626  3931  2302  3965  3914  4308  1534  2775  5998\n",
      "  1271  9398   951  1355  3051  7855  9572  1837  4249  5234  6758  1366\n",
      "  1358  2473  1337  7763  6560  3123  8065  2439  9034 14027  9629  1484\n",
      "  1131  2064 12976  2580  2570  3915  1309  4817  2579  2225  4153  3114\n",
      "  2124  1333  7119  4870   691  4370  2746  4110  2462  2969  4605  6331\n",
      "  3552   697  1442  5293  3414  2039  3161   902 10297 14421  1056  1274\n",
      "  1223  1372  2625  2235   959   884  1246  8086 10127   888   719 12389\n",
      "  6850  2210  7485   797  4746   939  1188 11590  1190  2767  3441  4280\n",
      "  3092  1331 15945  3234  9960  8648  1345  1647  4844  8318  2100 11816\n",
      "   448 11998 18424 14896  2762  3386  2169  5096  1882  6999  2292  8978\n",
      "   674  2718   750 12579  7511  3966  6199  1987  2303 12680  6350]\n",
      "Value_Savings_Stocks int64 [1 2 3 5 4]\n",
      "Length_of_current_employment int64 [2 3 4 1 5]\n",
      "Instalment_per_cent int64 [4 2 3 1]\n",
      "Sex_Marital_Status int64 [2 3 4 1]\n",
      "Guarantors int64 [1 3 2]\n",
      "Duration_in_Current_address int64 [4 2 3 1]\n",
      "Most_valuable_available_asset int64 [2 1 3 4]\n",
      "Age_years int64 [21 36 23 39 38 48 40 65 24 31 44 25 37 49 33 26 51 29 56 47 34 28 41 58\n",
      " 61 30 63 27 45 43 52 22 60 32 35 42 59 54 64 46 74 50 20 55 53 19 57 66\n",
      " 68 70 67 75 62]\n",
      "Concurrent_Credits int64 [3 1 2]\n",
      "Type_of_apartment int64 [1 2 3]\n",
      "No_of_Credits_at_this_Bank int64 [1 2 3 4]\n",
      "Occupation int64 [3 2 1 4]\n",
      "No_of_dependents int64 [1 2]\n",
      "Telephone int64 [1 2]\n",
      "Foreign_Worker int64 [1 2]\n"
     ]
    }
   ],
   "source": [
    "# categorical and numeric columns\n",
    "for column_name in list(df.columns):\n",
    "    print(column_name, df[column_name].dtype, df[column_name].unique())"
   ]
  },
  {
   "cell_type": "code",
   "execution_count": 26,
   "id": "7125d401",
   "metadata": {},
   "outputs": [],
   "source": [
    "# categorical -> object\n",
    "# unique value와 data description을 함께 확인하며, heuristic 하게 결정\n",
    "list_casting_as_object = ['Creditability', 'Account_Balance', 'Payment_Status_of_Previous_Credit',\n",
    "                          'Purpose', 'Length_of_current_employment','Sex_Marital_Status', 'Guarantors',\n",
    "                          'Duration_in_Current_address', 'Most_valuable_available_asset','Concurrent_Credits',\n",
    "                          'Type_of_apartment','Occupation', 'No_of_dependents','Telephone', 'Foreign_Worker']\n",
    "for column_name in list_casting_as_object:\n",
    "    df[column_name] = df[column_name].astype('object')"
   ]
  },
  {
   "cell_type": "code",
   "execution_count": 27,
   "id": "f90055d8",
   "metadata": {},
   "outputs": [
    {
     "name": "stdout",
     "output_type": "stream",
     "text": [
      "<class 'pandas.core.frame.DataFrame'>\n",
      "RangeIndex: 1000 entries, 0 to 999\n",
      "Data columns (total 21 columns):\n",
      " #   Column                             Non-Null Count  Dtype \n",
      "---  ------                             --------------  ----- \n",
      " 0   Creditability                      1000 non-null   object\n",
      " 1   Account_Balance                    1000 non-null   object\n",
      " 2   Duration_of_Credit_monthly         1000 non-null   int64 \n",
      " 3   Payment_Status_of_Previous_Credit  1000 non-null   object\n",
      " 4   Purpose                            1000 non-null   object\n",
      " 5   Credit_Amount                      1000 non-null   int64 \n",
      " 6   Value_Savings_Stocks               1000 non-null   int64 \n",
      " 7   Length_of_current_employment       1000 non-null   object\n",
      " 8   Instalment_per_cent                1000 non-null   int64 \n",
      " 9   Sex_Marital_Status                 1000 non-null   object\n",
      " 10  Guarantors                         1000 non-null   object\n",
      " 11  Duration_in_Current_address        1000 non-null   object\n",
      " 12  Most_valuable_available_asset      1000 non-null   object\n",
      " 13  Age_years                          1000 non-null   int64 \n",
      " 14  Concurrent_Credits                 1000 non-null   object\n",
      " 15  Type_of_apartment                  1000 non-null   object\n",
      " 16  No_of_Credits_at_this_Bank         1000 non-null   int64 \n",
      " 17  Occupation                         1000 non-null   object\n",
      " 18  No_of_dependents                   1000 non-null   object\n",
      " 19  Telephone                          1000 non-null   object\n",
      " 20  Foreign_Worker                     1000 non-null   object\n",
      "dtypes: int64(6), object(15)\n",
      "memory usage: 164.2+ KB\n"
     ]
    }
   ],
   "source": [
    "df.info()"
   ]
  },
  {
   "cell_type": "code",
   "execution_count": 35,
   "id": "d513dd61",
   "metadata": {},
   "outputs": [
    {
     "name": "stdout",
     "output_type": "stream",
     "text": [
      "컬럼의 수 : 21\n",
      "범주형 컬럼의 수 : 15\n",
      "수치형 컬럼의 수 : 6\n"
     ]
    }
   ],
   "source": [
    "list_categorocal_columns = list(df.select_dtypes(include=['object']).columns)\n",
    "list_numeric_columns = list(df.select_dtypes(include=['int64']).columns)\n",
    "print(\"컬럼의 수 :\", len(df.columns))\n",
    "print(\"범주형 컬럼의 수 :\",len(list_categorocal_columns))\n",
    "print(\"수치형 컬럼의 수 :\",len(list_numeric_columns))"
   ]
  },
  {
   "cell_type": "code",
   "execution_count": 36,
   "id": "3eaa9ca6",
   "metadata": {},
   "outputs": [],
   "source": [
    "target_column = 'Creditability'"
   ]
  },
  {
   "cell_type": "markdown",
   "id": "da67a0ab",
   "metadata": {},
   "source": [
    "2.2 Dependent(종속) Data Explore"
   ]
  }
 ],
 "metadata": {
  "kernelspec": {
   "display_name": "Python 3 (ipykernel)",
   "language": "python",
   "name": "python3"
  },
  "language_info": {
   "codemirror_mode": {
    "name": "ipython",
    "version": 3
   },
   "file_extension": ".py",
   "mimetype": "text/x-python",
   "name": "python",
   "nbconvert_exporter": "python",
   "pygments_lexer": "ipython3",
   "version": "3.10.9"
  }
 },
 "nbformat": 4,
 "nbformat_minor": 5
}
